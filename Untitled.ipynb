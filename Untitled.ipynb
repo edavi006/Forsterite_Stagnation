{
 "cells": [
  {
   "cell_type": "markdown",
   "metadata": {},
   "source": [
    "# Forsterite Stagnation - release curve\n",
    "\n",
    "Erik Davies - 03/20/2020\n",
    "\n",
    "This script loads in an eos and calculates a decompression isentrope from a given shock\n",
    "state until intersection with the l-v dome.\n",
    "\n",
    "Complimenting the EOS is a decompression isentrope using the Thomas et al. 2013 liquid isentrope +\n",
    "the Davies et al. 2020 gruneisen parameter, and Root et al. 2018 principal hugoniot.\n",
    "\n",
    "These curves \n",
    "\n",
    "\n",
    "Order of operations\n",
    "1. Load in ANEOS isentrope\n",
    "2. Load in thomas-davies isentrope parameters\n",
    "3. from a single shock state, compare ANEOS, isentrope, and data"
   ]
  },
  {
   "cell_type": "code",
   "execution_count": 2,
   "metadata": {},
   "outputs": [],
   "source": [
    "#User parameter inputs\n",
    "#Simple user inputs, nothing else should need changing\n",
    "#Shock state\n",
    "#Enotropy value of the release isentrope\n",
    "S_cho=4000 #J/K/kg\n",
    "\n",
    "#Set up array size for later on vapor fraction calculation\n",
    "size=10000\n"
   ]
  },
  {
   "cell_type": "markdown",
   "metadata": {},
   "source": [
    "User inputs will eventually be replaced by a spreadsheet containing stagnation data to compare to.\n",
    "As of 03/20/2020, simply input an example shock and release state."
   ]
  },
  {
   "cell_type": "code",
   "execution_count": null,
   "metadata": {},
   "outputs": [],
   "source": []
  }
 ],
 "metadata": {
  "kernelspec": {
   "display_name": "Python 3",
   "language": "python",
   "name": "python3"
  },
  "language_info": {
   "codemirror_mode": {
    "name": "ipython",
    "version": 3
   },
   "file_extension": ".py",
   "mimetype": "text/x-python",
   "name": "python",
   "nbconvert_exporter": "python",
   "pygments_lexer": "ipython3",
   "version": "3.6.4"
  }
 },
 "nbformat": 4,
 "nbformat_minor": 2
}
